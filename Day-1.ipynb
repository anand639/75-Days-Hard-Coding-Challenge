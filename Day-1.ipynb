{
 "cells": [
  {
   "cell_type": "markdown",
   "id": "2571272d-fdf6-4148-90a9-7e7b329ad94f",
   "metadata": {},
   "source": [
    "# Rock Paper game"
   ]
  },
  {
   "cell_type": "code",
   "execution_count": 3,
   "id": "b07be789-564d-4b05-8de1-f58faaedd70d",
   "metadata": {},
   "outputs": [
    {
     "name": "stdin",
     "output_type": "stream",
     "text": [
      "What do you choose? Type 0 for Rock, 1 for Paper or 2 for Scissors.\n",
      " 0\n"
     ]
    },
    {
     "name": "stdout",
     "output_type": "stream",
     "text": [
      "\n",
      "    _______\n",
      "---'   ____)\n",
      "      (_____)\n",
      "      (_____)\n",
      "      (____)\n",
      "---.__(___)\n",
      "\n",
      "Computer chose: \n",
      "\n",
      "    _______\n",
      "---'   ____)____\n",
      "          ______)\n",
      "          _______)\n",
      "         _______)\n",
      "---.__________)\n",
      "\n",
      "You Lose!\n"
     ]
    }
   ],
   "source": [
    "import random \n",
    "\n",
    "rock = '''\n",
    "    _______\n",
    "---'   ____)\n",
    "      (_____)\n",
    "      (_____)\n",
    "      (____)\n",
    "---.__(___)\n",
    "'''\n",
    "\n",
    "paper = '''\n",
    "    _______\n",
    "---'   ____)____\n",
    "          ______)\n",
    "          _______)\n",
    "         _______)\n",
    "---.__________)\n",
    "'''\n",
    "\n",
    "scissors = '''\n",
    "    _______\n",
    "---'   ____)____\n",
    "          ______)\n",
    "       __________)\n",
    "      (____)\n",
    "---.__(___)\n",
    "'''\n",
    "\n",
    "game_images = [rock, paper, scissors]\n",
    "\n",
    "_user_Choice = int(input(\"What do you choose? Type 0 for Rock, 1 for Paper or 2 for Scissors.\\n\"))\n",
    "\n",
    "if _user_Choice >=3 or _user_Choice <0:\n",
    "    print(\"Invalid Number\")\n",
    "else:     \n",
    "    print(game_images[_user_Choice])\n",
    "\n",
    "    _computer_choice = random.randint(0, 2)\n",
    "\n",
    "    print(\"Computer chose: \")\n",
    "    print(game_images[_computer_choice])\n",
    "\n",
    "if _user_Choice == 0 and _computer_choice == 2:\n",
    "    print(\"You Win!\")\n",
    "elif _computer_choice == 0 and _user_Choice == 2:\n",
    "    print(\"You Lose!\")\n",
    "elif _computer_choice > _user_Choice:\n",
    "    print(\"You Lose!\")\n",
    "elif _user_Choice > _computer_choice :\n",
    "    print(\"You Win!\")\n",
    "elif _computer_choice == _user_Choice:\n",
    "    print(\"Its a draw\")\n"
   ]
  },
  {
   "cell_type": "code",
   "execution_count": null,
   "id": "bf0dd8c3-321e-44de-a649-89c144992338",
   "metadata": {},
   "outputs": [],
   "source": []
  },
  {
   "cell_type": "code",
   "execution_count": null,
   "id": "fb20476f-ebc8-4f35-a8af-6946fe040ba8",
   "metadata": {},
   "outputs": [],
   "source": []
  },
  {
   "cell_type": "code",
   "execution_count": null,
   "id": "d44ddad6-f2d4-40cf-bc9c-da7eb90e2ae4",
   "metadata": {},
   "outputs": [],
   "source": []
  },
  {
   "cell_type": "code",
   "execution_count": null,
   "id": "6532a9d3-7534-4876-8151-a90adbdc3f54",
   "metadata": {},
   "outputs": [],
   "source": []
  },
  {
   "cell_type": "code",
   "execution_count": null,
   "id": "659cf325-98e0-49f4-8fed-39598e062de2",
   "metadata": {},
   "outputs": [],
   "source": []
  }
 ],
 "metadata": {
  "kernelspec": {
   "display_name": "Python 3 (ipykernel)",
   "language": "python",
   "name": "python3"
  },
  "language_info": {
   "codemirror_mode": {
    "name": "ipython",
    "version": 3
   },
   "file_extension": ".py",
   "mimetype": "text/x-python",
   "name": "python",
   "nbconvert_exporter": "python",
   "pygments_lexer": "ipython3",
   "version": "3.12.3"
  }
 },
 "nbformat": 4,
 "nbformat_minor": 5
}
