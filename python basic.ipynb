{
 "cells": [
  {
   "cell_type": "code",
   "execution_count": 1,
   "id": "c807d342-916e-432f-bc57-72cdac3f619c",
   "metadata": {},
   "outputs": [
    {
     "name": "stdout",
     "output_type": "stream",
     "text": [
      "5\n"
     ]
    }
   ],
   "source": [
    "a = 5 \n",
    "b = 5\n",
    "a = b\n",
    "print(a)"
   ]
  },
  {
   "cell_type": "markdown",
   "id": "a3441514-4c6a-4ca9-b341-c0e40441b9f7",
   "metadata": {},
   "source": [
    "# Sample"
   ]
  },
  {
   "cell_type": "code",
   "execution_count": 2,
   "id": "c2fbb024-266c-4b08-bd7d-88c83a84a482",
   "metadata": {},
   "outputs": [
    {
     "name": "stdout",
     "output_type": "stream",
     "text": [
      "Welcome to the treasure island\n"
     ]
    }
   ],
   "source": [
    "print(\"Welcome to the treasure island\")"
   ]
  },
  {
   "cell_type": "code",
   "execution_count": 3,
   "id": "decb91e5-488c-4061-a6af-097c2fd81173",
   "metadata": {},
   "outputs": [
    {
     "name": "stdout",
     "output_type": "stream",
     "text": [
      "Welcome to the treasure island\n",
      "Your mission is to find the treasure\n",
      "You are at cross road where you want to go \"left\" or \"right\"\n"
     ]
    }
   ],
   "source": [
    "print(\"Welcome to the treasure island\")\n",
    "print(\"Your mission is to find the treasure\")\n",
    "print('You are at cross road where you want to go \"left\" or \"right\"')\n"
   ]
  },
  {
   "cell_type": "code",
   "execution_count": 5,
   "id": "a7929482-2c1a-4b8b-a58c-085e05b7dfac",
   "metadata": {},
   "outputs": [
    {
     "name": "stdout",
     "output_type": "stream",
     "text": [
      "Welcome to the treasure island\n",
      "Your mission is to find the treasure\n"
     ]
    },
    {
     "name": "stdin",
     "output_type": "stream",
     "text": [
      "You are at cross road where you want to go \"left\" or \"right\" left\n"
     ]
    },
    {
     "name": "stdout",
     "output_type": "stream",
     "text": [
      "Your pressed left\n"
     ]
    }
   ],
   "source": [
    "print(\"Welcome to the treasure island\")\n",
    "print(\"Your mission is to find the treasure\")\n",
    "c1 = input('You are at cross road where you want to go \"left\" or \"right\"').lower()\n",
    "\n",
    "if c1 == \"right\":\n",
    "    print(\"Game over\")\n",
    "elif c1 == \"left\":\n",
    "    print(\"Your pressed left\")\n",
    "else: \n",
    "    print(\"New Field unlocked\")"
   ]
  },
  {
   "cell_type": "code",
   "execution_count": 24,
   "id": "ffd9b171-44d1-446f-8240-779004fcc1c2",
   "metadata": {},
   "outputs": [
    {
     "name": "stdout",
     "output_type": "stream",
     "text": [
      "42920\n"
     ]
    }
   ],
   "source": [
    "import random\n",
    "\n",
    "a = 2000\n",
    "b = 50000\n",
    "r = random.randint(a,b)\n",
    "print(r)"
   ]
  },
  {
   "cell_type": "code",
   "execution_count": 26,
   "id": "bccd2380-48ec-439e-b033-fdc6e28e3974",
   "metadata": {},
   "outputs": [
    {
     "name": "stdout",
     "output_type": "stream",
     "text": [
      "['anand']\n"
     ]
    }
   ],
   "source": [
    "a = \"anand\"\n",
    "sp = a.split(\", \")\n",
    "print(sp)"
   ]
  },
  {
   "cell_type": "code",
   "execution_count": null,
   "id": "cf358a0b-ddf2-47e1-b80a-9b3db4a8b0f3",
   "metadata": {},
   "outputs": [],
   "source": []
  },
  {
   "cell_type": "code",
   "execution_count": null,
   "id": "b07be789-564d-4b05-8de1-f58faaedd70d",
   "metadata": {},
   "outputs": [],
   "source": []
  }
 ],
 "metadata": {
  "kernelspec": {
   "display_name": "Python 3 (ipykernel)",
   "language": "python",
   "name": "python3"
  },
  "language_info": {
   "codemirror_mode": {
    "name": "ipython",
    "version": 3
   },
   "file_extension": ".py",
   "mimetype": "text/x-python",
   "name": "python",
   "nbconvert_exporter": "python",
   "pygments_lexer": "ipython3",
   "version": "3.12.3"
  }
 },
 "nbformat": 4,
 "nbformat_minor": 5
}
