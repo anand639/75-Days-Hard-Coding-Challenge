{
 "cells": [
  {
   "cell_type": "markdown",
   "id": "58c2bc60-7ddf-4751-ba17-c5ff7ef97497",
   "metadata": {},
   "source": [
    "# Loop Basics"
   ]
  },
  {
   "cell_type": "code",
   "execution_count": 1,
   "id": "84d03895-bf91-4968-a33e-3ff3429b4d91",
   "metadata": {},
   "outputs": [
    {
     "name": "stdout",
     "output_type": "stream",
     "text": [
      "Apple\n",
      "ApplePie\n",
      "['Apple', 'Banana', 'Pear']\n",
      "Banana\n",
      "BananaPie\n",
      "['Apple', 'Banana', 'Pear']\n",
      "Pear\n",
      "PearPie\n",
      "['Apple', 'Banana', 'Pear']\n"
     ]
    }
   ],
   "source": [
    "fruit = [\"Apple\", \"Banana\", \"Pear\"]\n",
    "for f in fruit:\n",
    "    print(f)\n",
    "    print(f + \"Pie\")\n",
    "    print(fruit)"
   ]
  },
  {
   "cell_type": "markdown",
   "id": "f54f6e9b-1b75-4cb8-affd-f2276f08e054",
   "metadata": {},
   "source": [
    "# Change the indentation and see the magic"
   ]
  },
  {
   "cell_type": "code",
   "execution_count": 16,
   "id": "d688b9f7-bb9e-4593-8700-4e744cc75653",
   "metadata": {},
   "outputs": [
    {
     "name": "stdout",
     "output_type": "stream",
     "text": [
      "163.71428571428572\n"
     ]
    }
   ],
   "source": [
    "student_heights = [180, 124, 165, 173, 189, 169, 146]\n",
    "avg = sum(student_heights) / len(student_heights)\n",
    "print(avg)"
   ]
  },
  {
   "cell_type": "code",
   "execution_count": 20,
   "id": "1577f7a4-dc9e-4c16-82e5-f8052248ef13",
   "metadata": {},
   "outputs": [
    {
     "name": "stdout",
     "output_type": "stream",
     "text": [
      "total height = 1146\n",
      "Numbers of students = 7\n",
      "Average height = 163.71428571428572\n"
     ]
    }
   ],
   "source": [
    "student_heights = [180, 124, 165, 173, 189, 169, 146]\n",
    "total_height = 0 \n",
    "for height in student_heights:\n",
    "    total_height += height\n",
    "print(f\"total height = {total_height}\")\n",
    "\n",
    "total_student = 0 \n",
    "for student in student_heights:\n",
    "    total_student += 1\n",
    "print(f\"Numbers of students = {total_student}\")\n",
    "avg = total_height / total_student\n",
    "print(f\"Average height = {avg}\")"
   ]
  },
  {
   "cell_type": "markdown",
   "id": "e1d80ee5-1649-4e2e-9b84-4fb9fb76f83b",
   "metadata": {},
   "source": [
    "# Fizz Buzz Game"
   ]
  },
  {
   "cell_type": "code",
   "execution_count": 2,
   "id": "3fefcff5-1ba1-4a77-b2ca-fe9b5bc05031",
   "metadata": {},
   "outputs": [
    {
     "name": "stdout",
     "output_type": "stream",
     "text": [
      "1\n",
      "2\n",
      "fizz\n",
      "4\n",
      "Buzz\n",
      "fizz\n",
      "7\n",
      "8\n",
      "fizz\n",
      "Buzz\n",
      "11\n",
      "fizz\n",
      "13\n",
      "14\n",
      "FizzBuzz\n",
      "16\n",
      "17\n",
      "fizz\n",
      "19\n",
      "Buzz\n",
      "fizz\n",
      "22\n",
      "23\n",
      "fizz\n",
      "Buzz\n",
      "26\n",
      "fizz\n",
      "28\n",
      "29\n",
      "FizzBuzz\n"
     ]
    }
   ],
   "source": [
    "target = 30\n",
    "for number in range(1, target + 1):\n",
    "    if number % 3 == 0 and number % 5 == 0:\n",
    "        print(\"FizzBuzz\")\n",
    "    elif number % 3 == 0:\n",
    "        print(\"fizz\")\n",
    "    elif number % 5 == 0:\n",
    "        print(\"Buzz\")\n",
    "    else:\n",
    "        print(number)\n",
    "        "
   ]
  },
  {
   "cell_type": "markdown",
   "id": "0be4c09e-f1ff-43cd-91c9-ca11bfff9c6a",
   "metadata": {},
   "source": [
    "# Password Generator "
   ]
  },
  {
   "cell_type": "code",
   "execution_count": 3,
   "id": "ad6c7daa-57ff-4658-8e8b-4faf6869de61",
   "metadata": {},
   "outputs": [
    {
     "name": "stdout",
     "output_type": "stream",
     "text": [
      "Welcome to the Python Password Generator!\n"
     ]
    },
    {
     "name": "stdin",
     "output_type": "stream",
     "text": [
      "How many letters would you like in your password?\n",
      " 8\n",
      "How many symbols would you like?\n",
      " 4\n",
      "How many numbers would you like?\n",
      " 3\n"
     ]
    },
    {
     "name": "stdout",
     "output_type": "stream",
     "text": [
      "Your password is: 0pR*scYxl3$#0Z!\n"
     ]
    }
   ],
   "source": [
    "import random\n",
    "letters = ['a', 'b', 'c', 'd', 'e', 'f', 'g', 'h', 'i', 'j', 'k', 'l', 'm', 'n', 'o', 'p', 'q', 'r', 's', 't', 'u', 'v', 'w', 'x', 'y', 'z', 'A', 'B', 'C', 'D', 'E', 'F', 'G', 'H', 'I', 'J', 'K', 'L', 'M', 'N', 'O', 'P', 'Q', 'R', 'S', 'T', 'U', 'V', 'W', 'X', 'Y', 'Z']\n",
    "numbers = ['0', '1', '2', '3', '4', '5', '6', '7', '8', '9']\n",
    "symbols = ['!', '#', '$', '%', '&', '(', ')', '*', '+']\n",
    "\n",
    "print(\"Welcome to the Python Password Generator!\")\n",
    "nr_letters = int(input(\"How many letters would you like in your password?\\n\")) \n",
    "nr_symbols = int(input(f\"How many symbols would you like?\\n\"))\n",
    "nr_numbers = int(input(f\"How many numbers would you like?\\n\"))\n",
    "\n",
    "password_list = []\n",
    "\n",
    "for char in range(1, nr_letters + 1):\n",
    "  password_list.append(random.choice(letters))\n",
    "\n",
    "for char in range(1, nr_symbols + 1):\n",
    "  password_list += random.choice(symbols)\n",
    "\n",
    "for char in range(1, nr_numbers + 1):\n",
    "  password_list += random.choice(numbers)\n",
    "\n",
    "# print(password_list)\n",
    "random.shuffle(password_list)\n",
    "# print(password_list)\n",
    "\n",
    "password = \"\"\n",
    "for char in password_list:\n",
    "  password += char\n",
    "\n",
    "print(f\"Your password is: {password}\")\n",
    "\n"
   ]
  },
  {
   "cell_type": "markdown",
   "id": "6019c215-a5fb-4175-9674-76b863a5a8b5",
   "metadata": {},
   "source": [
    "## The script generates a random password by:\n",
    "\n",
    "## Asking the user for the number of letters, symbols, and numbers.\n",
    "## Collecting the specified amount of each type of character.\n",
    "## Shuffling the collected characters to ensure randomness.\n",
    "## Constructing and displaying the final password."
   ]
  },
  {
   "cell_type": "code",
   "execution_count": null,
   "id": "689c7dde-613d-46c7-98b0-41743e024331",
   "metadata": {},
   "outputs": [],
   "source": []
  }
 ],
 "metadata": {
  "kernelspec": {
   "display_name": "Python 3 (ipykernel)",
   "language": "python",
   "name": "python3"
  },
  "language_info": {
   "codemirror_mode": {
    "name": "ipython",
    "version": 3
   },
   "file_extension": ".py",
   "mimetype": "text/x-python",
   "name": "python",
   "nbconvert_exporter": "python",
   "pygments_lexer": "ipython3",
   "version": "3.12.3"
  }
 },
 "nbformat": 4,
 "nbformat_minor": 5
}
